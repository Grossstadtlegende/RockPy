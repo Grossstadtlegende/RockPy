{
 "cells": [
  {
   "cell_type": "code",
   "execution_count": 1,
   "metadata": {
    "ExecuteTime": {
     "end_time": "2017-04-09T20:09:23.831821",
     "start_time": "2017-04-09T20:09:23.362022"
    },
    "collapsed": false
   },
   "outputs": [
    {
     "name": "stdout",
     "output_type": "stream",
     "text": [
      "Populating the interactive namespace from numpy and matplotlib\n"
     ]
    }
   ],
   "source": [
    "%reload_ext autoreload\n",
    "%autoreload 2\n",
    "%pylab inline"
   ]
  },
  {
   "cell_type": "code",
   "execution_count": 2,
   "metadata": {
    "ExecuteTime": {
     "end_time": "2017-04-09T20:09:23.964934",
     "start_time": "2017-04-09T20:09:23.943676"
    },
    "collapsed": false
   },
   "outputs": [],
   "source": [
    "import sys\n",
    "sys.path.append('/Users/mike/github/2016-Pressure_cleaning/code')"
   ]
  },
  {
   "cell_type": "code",
   "execution_count": 3,
   "metadata": {
    "ExecuteTime": {
     "end_time": "2017-04-09T20:09:24.977095",
     "start_time": "2017-04-09T20:09:24.336057"
    },
    "collapsed": false
   },
   "outputs": [
    {
     "name": "stdout",
     "output_type": "stream",
     "text": [
      "2017-04-09 20:09:24,678 DEBUG:RockPy.<module> >> This is RockPy\n",
      "2017-04-09 20:09:24,679 DEBUG:RockPy.<module> >> Installation dr: /Users/mike/github/RockPy/RockPy\n",
      "2017-04-09 20:09:24,680 DEBUG:RockPy.read_abbreviations >> READING FTYPE/MTYPE abbreviations.txt\n",
      "IMPLEMENTED MEASUREMENT TYPES     : \tFTYPES\n",
      "---------------------------------------------------------------------------\n",
      "\tdiameter                  : \tgeneric\n",
      "\theight                    : \tgeneric\n",
      "\thysteresis                : \tvsm\n",
      "\tlength                    : \tgeneric\n",
      "\tmass                      : \tgeneric\n",
      "\tpaleointensity            : \tjr6\n",
      "\tparameter                 : \tgeneric\n",
      "\n"
     ]
    }
   ],
   "source": [
    "import RockPy\n",
    "import pressure_cleaning_utils"
   ]
  },
  {
   "cell_type": "code",
   "execution_count": 125,
   "metadata": {
    "ExecuteTime": {
     "end_time": "2017-04-09T20:54:42.551226",
     "start_time": "2017-04-09T20:54:42.505548"
    },
    "collapsed": true
   },
   "outputs": [],
   "source": [
    "import RockPy.Packages.Mag.Measurement.Simulation.paleointensity as simulate"
   ]
  },
  {
   "cell_type": "code",
   "execution_count": 126,
   "metadata": {
    "ExecuteTime": {
     "end_time": "2017-04-09T20:54:43.026485",
     "start_time": "2017-04-09T20:54:42.950984"
    },
    "collapsed": false
   },
   "outputs": [],
   "source": [
    "f = simulate.Fabian2001()"
   ]
  },
  {
   "cell_type": "code",
   "execution_count": 161,
   "metadata": {
    "ExecuteTime": {
     "end_time": "2017-04-09T21:05:35.370399",
     "start_time": "2017-04-09T21:05:35.295397"
    },
    "collapsed": false
   },
   "outputs": [
    {
     "name": "stdout",
     "output_type": "stream",
     "text": [
      "2017-04-09 21:05:35,356 DEBUG:RockPy.Fabian2001.get_H_matrix_new >> Tau_i = 0.50, idx = 51\n",
      "2017-04-09 21:05:35,358 DEBUG:RockPy.Fabian2001.get_H_matrix_new >> hlab rectangle shape: (51, 101)\n",
      "2017-04-09 21:05:35,360 DEBUG:RockPy.Fabian2001.get_H_matrix_new >> demag rectangle shape: (51, 50)\n",
      "2017-04-09 21:05:35,361 DEBUG:RockPy.Fabian2001.get_H_matrix_new >> paleomag rectangle shape: (51, 51)\n",
      "[1, 1, 1, 1, 1, 1, 1, 1, 1, 1, 1, 1, 1, 1, 1, 1, 1, 1, 1, 1, 1, 1, 1, 1, 1, 1, 1, 1, 1, 1, 1, 1, 1, 1, 1, 1, 1, 1, 1, 1, 1, 1, 1, 1, 1, 1, 1, 1, 1, 1]\n"
     ]
    },
    {
     "data": {
      "text/plain": [
       "array([[ 1.,  1.,  1., ...,  0.,  0.,  0.],\n",
       "       [ 1.,  1.,  1., ...,  0.,  0.,  0.],\n",
       "       [ 1.,  1.,  1., ...,  0.,  0.,  0.],\n",
       "       ..., \n",
       "       [ 1.,  1.,  1., ...,  1.,  1.,  1.],\n",
       "       [ 1.,  1.,  1., ...,  1.,  1.,  1.],\n",
       "       [ 1.,  1.,  1., ...,  1.,  1.,  1.]])"
      ]
     },
     "execution_count": 161,
     "metadata": {},
     "output_type": "execute_result"
    }
   ],
   "source": [
    "f.get_H_matrix_new(0.5,1, pressure_demag=True)"
   ]
  },
  {
   "cell_type": "code",
   "execution_count": 131,
   "metadata": {
    "ExecuteTime": {
     "end_time": "2017-04-09T20:56:08.170032",
     "start_time": "2017-04-09T20:56:07.014310"
    },
    "collapsed": false
   },
   "outputs": [],
   "source": [
    "for row, data in enumerate(f.get_H_matrix_new(0.5, 0.7)):\n",
    "    a = f.get_H_matrix_new(0.5, 0.7)[row] ==f.get_H_matrix(0.5, 0.7)[row]\n",
    "    if not a.all():\n",
    "        for i,n in enumerate(a):\n",
    "            if not n:\n",
    "                print(row, i, n)"
   ]
  },
  {
   "cell_type": "code",
   "execution_count": 132,
   "metadata": {
    "ExecuteTime": {
     "end_time": "2017-04-09T20:56:09.582076",
     "start_time": "2017-04-09T20:56:09.533197"
    },
    "collapsed": false
   },
   "outputs": [
    {
     "data": {
      "text/plain": [
       "array([[ 0.7,  0.7,  0.7, ...,  0. ,  0. ,  0. ],\n",
       "       [ 0.7,  0.7,  0.7, ...,  0. ,  0. ,  0. ],\n",
       "       [ 0.7,  0.7,  0.7, ...,  0. ,  0. ,  0. ],\n",
       "       ..., \n",
       "       [ 1. ,  1. ,  1. , ...,  1. ,  1. ,  1. ],\n",
       "       [ 1. ,  1. ,  1. , ...,  1. ,  1. ,  1. ],\n",
       "       [ 1. ,  1. ,  1. , ...,  1. ,  1. ,  1. ]])"
      ]
     },
     "execution_count": 132,
     "metadata": {},
     "output_type": "execute_result"
    }
   ],
   "source": [
    "f.get_H_matrix(0.5, 0.7)"
   ]
  },
  {
   "cell_type": "code",
   "execution_count": 133,
   "metadata": {
    "ExecuteTime": {
     "end_time": "2017-04-09T20:56:10.928943",
     "start_time": "2017-04-09T20:56:10.499348"
    },
    "collapsed": false
   },
   "outputs": [
    {
     "data": {
      "image/png": "[encoded data removed]",
      "text/plain": [
       "<matplotlib.figure.Figure at 0x1145bb278>"
      ]
     },
     "metadata": {},
     "output_type": "display_data"
    },
    {
     "data": {
      "text/plain": [
       "<matplotlib.colorbar.Colorbar at 0x1138d2eb8>"
      ]
     },
     "execution_count": 133,
     "metadata": {},
     "output_type": "execute_result"
    },
    {
     "data": {
      "image/png": "[encoded data removed]",
      "text/plain": [
       "<matplotlib.figure.Figure at 0x114416b70>"
      ]
     },
     "metadata": {},
     "output_type": "display_data"
    }
   ],
   "source": [
    "imshow(f.get_H_matrix_new(0.5, 0.7))\n",
    "show()\n",
    "imshow(f.get_H_matrix(0.5, 0.7))\n",
    "colorbar()"
   ]
  },
  {
   "cell_type": "code",
   "execution_count": 134,
   "metadata": {
    "ExecuteTime": {
     "end_time": "2017-04-09T20:56:11.590584",
     "start_time": "2017-04-09T20:56:11.386664"
    },
    "collapsed": true
   },
   "outputs": [],
   "source": [
    "fcomp = pressure_cleaning_utils.Fabian2001()"
   ]
  },
  {
   "cell_type": "code",
   "execution_count": 138,
   "metadata": {
    "ExecuteTime": {
     "end_time": "2017-04-09T20:56:48.733187",
     "start_time": "2017-04-09T20:56:47.503392"
    },
    "collapsed": false
   },
   "outputs": [
    {
     "name": "stdout",
     "output_type": "stream",
     "text": [
      "The slowest run took 4.08 times longer than the fastest. This could mean that an intermediate result is being cached.\n",
      "10000 loops, best of 3: 27 µs per loop\n"
     ]
    }
   ],
   "source": [
    "%timeit f.get_H_matrix_new(0.5, 1)"
   ]
  },
  {
   "cell_type": "code",
   "execution_count": 136,
   "metadata": {
    "ExecuteTime": {
     "end_time": "2017-04-09T20:56:22.088076",
     "start_time": "2017-04-09T20:56:22.029702"
    },
    "collapsed": false
   },
   "outputs": [
    {
     "name": "stdout",
     "output_type": "stream",
     "text": [
      " "
     ]
    }
   ],
   "source": [
    "%prun f.get_H_matrix(0.5, 0.7)"
   ]
  },
  {
   "cell_type": "code",
   "execution_count": 137,
   "metadata": {
    "ExecuteTime": {
     "end_time": "2017-04-09T20:56:31.645489",
     "start_time": "2017-04-09T20:56:29.202118"
    },
    "collapsed": false
   },
   "outputs": [
    {
     "name": "stdout",
     "output_type": "stream",
     "text": [
      "The slowest run took 39.38 times longer than the fastest. This could mean that an intermediate result is being cached.\n",
      "10000000 loops, best of 3: 55.9 ns per loop\n"
     ]
    }
   ],
   "source": [
    "%timeit fcomp.get_chi_grid"
   ]
  },
  {
   "cell_type": "code",
   "execution_count": 95,
   "metadata": {
    "ExecuteTime": {
     "end_time": "2017-03-27T13:24:06.596855",
     "start_time": "2017-03-27T13:24:06.498803"
    },
    "collapsed": true
   },
   "outputs": [],
   "source": [
    "x = linspace(-2,2, 1000)\n",
    "pm = 0.5\n",
    "p1 = 0.\n",
    "p2 = 0.9\n",
    "pt = 0.\n",
    "p3 = 0.6"
   ]
  },
  {
   "cell_type": "code",
   "execution_count": 96,
   "metadata": {
    "ExecuteTime": {
     "end_time": "2017-03-27T13:24:07.090371",
     "start_time": "2017-03-27T13:24:06.992293"
    },
    "collapsed": false
   },
   "outputs": [],
   "source": [
    "pd = (p1 + p2 * f.cauchy(x-pt, p3))\n",
    "pd /= max(pd)\n",
    "pd *=pm"
   ]
  },
  {
   "cell_type": "code",
   "execution_count": 99,
   "metadata": {
    "ExecuteTime": {
     "end_time": "2017-03-27T13:25:15.805372",
     "start_time": "2017-03-27T13:25:15.474882"
    },
    "collapsed": false
   },
   "outputs": [
    {
     "data": {
      "text/plain": [
       "[<matplotlib.lines.Line2D at 0x11553f320>]"
      ]
     },
     "execution_count": 99,
     "metadata": {},
     "output_type": "execute_result"
    },
    {
     "data": {
      "image/png": "[encoded data removed]",
      "text/plain": [
       "<matplotlib.figure.Figure at 0x115431b00>"
      ]
     },
     "metadata": {},
     "output_type": "display_data"
    }
   ],
   "source": [
    "plot(x, pd)\n",
    "plot(x, 1-pd)\n",
    "gca().twinx().plot(x, pm+(cumsum(pd)/max(cumsum(pd))))"
   ]
  },
  {
   "cell_type": "code",
   "execution_count": 45,
   "metadata": {
    "ExecuteTime": {
     "end_time": "2017-04-09T20:24:04.317811",
     "start_time": "2017-04-09T20:24:04.263393"
    },
    "collapsed": true
   },
   "outputs": [],
   "source": [
    "tub = np.linspace(0,1,100)\n",
    "tb = np.linspace(0,1,100)"
   ]
  },
  {
   "cell_type": "code",
   "execution_count": 44,
   "metadata": {
    "ExecuteTime": {
     "end_time": "2017-04-09T20:21:21.880907",
     "start_time": "2017-04-09T20:21:17.613013"
    },
    "collapsed": false
   },
   "outputs": [
    {
     "name": "stdout",
     "output_type": "stream",
     "text": [
      "10000 loops, best of 3: 98.5 µs per loop\n"
     ]
    }
   ],
   "source": [
    "def test(i):\n",
    "    if i > 0:\n",
    "        t1 = np.concatenate([a <= i] for n in np.nditer(tub)).reshape(100,100)\n",
    "        t2 = np.concatenate([a <= i] for n in np.nditer(tb)).reshape(100,100)\n",
    "        t12 = t1 & t2\n",
    "    "
   ]
  },
  {
   "cell_type": "code",
   "execution_count": null,
   "metadata": {
    "collapsed": true
   },
   "outputs": [],
   "source": [
    "#        if tau_i >= tau_ub and tau_i >= tau_b and tau_i > 0:\n",
    "#        elif tau_ub > tau_i or tau_i == 0:"
   ]
  },
  {
   "cell_type": "code",
   "execution_count": 140,
   "metadata": {
    "ExecuteTime": {
     "end_time": "2017-04-09T20:57:36.685711",
     "start_time": "2017-04-09T20:57:36.648519"
    },
    "collapsed": false
   },
   "outputs": [
    {
     "data": {
      "text/plain": [
       "array([[0, 1, 2],\n",
       "       [3, 4, 5],\n",
       "       [6, 7, 8]])"
      ]
     },
     "execution_count": 140,
     "metadata": {},
     "output_type": "execute_result"
    }
   ],
   "source": [
    "a= np.arange(9).reshape(3,3)\n",
    "a"
   ]
  },
  {
   "cell_type": "code",
   "execution_count": 152,
   "metadata": {
    "ExecuteTime": {
     "end_time": "2017-04-09T20:59:56.105425",
     "start_time": "2017-04-09T20:59:56.066147"
    },
    "collapsed": false
   },
   "outputs": [
    {
     "data": {
      "text/plain": [
       "(2, 1)"
      ]
     },
     "execution_count": 152,
     "metadata": {},
     "output_type": "execute_result"
    }
   ],
   "source": [
    "array([[2],[3]]).shape"
   ]
  },
  {
   "cell_type": "code",
   "execution_count": 147,
   "metadata": {
    "ExecuteTime": {
     "end_time": "2017-04-09T20:58:37.091844",
     "start_time": "2017-04-09T20:58:37.056903"
    },
    "collapsed": false
   },
   "outputs": [
    {
     "data": {
      "text/plain": [
       "array([[ 0,  2,  4],\n",
       "       [ 9, 12, 15],\n",
       "       [ 6,  7,  8]])"
      ]
     },
     "execution_count": 147,
     "metadata": {},
     "output_type": "execute_result"
    }
   ],
   "source": [
    "a"
   ]
  },
  {
   "cell_type": "code",
   "execution_count": 151,
   "metadata": {
    "ExecuteTime": {
     "end_time": "2017-04-09T20:59:14.795561",
     "start_time": "2017-04-09T20:59:14.758803"
    },
    "collapsed": false
   },
   "outputs": [
    {
     "data": {
      "text/plain": [
       "(array([2, 3]), (2,))"
      ]
     },
     "execution_count": 151,
     "metadata": {},
     "output_type": "execute_result"
    }
   ],
   "source": [
    "b = array([2,3])\n",
    "b, b.shape"
   ]
  },
  {
   "cell_type": "code",
   "execution_count": 153,
   "metadata": {
    "ExecuteTime": {
     "end_time": "2017-04-09T21:00:01.809898",
     "start_time": "2017-04-09T21:00:01.771586"
    },
    "collapsed": false
   },
   "outputs": [
    {
     "data": {
      "text/plain": [
       "array([[2],\n",
       "       [3]])"
      ]
     },
     "execution_count": 153,
     "metadata": {},
     "output_type": "execute_result"
    }
   ],
   "source": [
    "b.reshape(2,1)"
   ]
  },
  {
   "cell_type": "code",
   "execution_count": null,
   "metadata": {
    "collapsed": true
   },
   "outputs": [],
   "source": []
  }
 ],
 "metadata": {
  "kernelspec": {
   "display_name": "Python 3",
   "language": "python",
   "name": "python3"
  },
  "language_info": {
   "codemirror_mode": {
    "name": "ipython",
    "version": 3
   },
   "file_extension": ".py",
   "mimetype": "text/x-python",
   "name": "python",
   "nbconvert_exporter": "python",
   "pygments_lexer": "ipython3",
   "version": "3.6.0"
  },
  "toc": {
   "colors": {
    "hover_highlight": "#DAA520",
    "running_highlight": "#FF0000",
    "selected_highlight": "#FFD700"
   },
   "moveMenuLeft": true,
   "nav_menu": {
    "height": "12px",
    "width": "252px"
   },
   "navigate_menu": true,
   "number_sections": true,
   "sideBar": true,
   "threshold": 4,
   "toc_cell": false,
   "toc_section_display": "block",
   "toc_window_display": true
  }
 },
 "nbformat": 4,
 "nbformat_minor": 2
}
