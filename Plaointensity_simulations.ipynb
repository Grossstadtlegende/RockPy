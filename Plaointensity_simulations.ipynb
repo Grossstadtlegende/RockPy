{
 "cells": [
  {
   "cell_type": "code",
   "execution_count": 4,
   "metadata": {
    "ExecuteTime": {
     "end_time": "2017-03-27T11:54:14.742799",
     "start_time": "2017-03-27T11:54:14.738667"
    },
    "collapsed": false
   },
   "outputs": [
    {
     "name": "stdout",
     "output_type": "stream",
     "text": [
      "['', '/Users/mike/github/RockPy', '/Users/mike/anaconda/lib/python36.zip', '/Users/mike/anaconda/lib/python3.6', '/Users/mike/anaconda/lib/python3.6/lib-dynload', '/Users/mike/anaconda/lib/python3.6/site-packages', '/Users/mike/anaconda/lib/python3.6/site-packages/Sphinx-1.5.1-py3.6.egg', '/Users/mike/anaconda/lib/python3.6/site-packages/aeosa', '/Users/mike/anaconda/lib/python3.6/site-packages/setuptools-27.2.0-py3.6.egg', '/Users/mike/anaconda/lib/python3.6/site-packages/IPython/extensions', '/Users/mike/.ipython']\n"
     ]
    }
   ],
   "source": [
    "import sys\n",
    "print(sys.path)"
   ]
  },
  {
   "cell_type": "code",
   "execution_count": 3,
   "metadata": {
    "ExecuteTime": {
     "end_time": "2017-03-27T11:54:11.136081",
     "start_time": "2017-03-27T11:54:09.926698"
    },
    "collapsed": false
   },
   "outputs": [
    {
     "name": "stdout",
     "output_type": "stream",
     "text": [
      "2017-03-27 11:54:10,606 DEBUG:RockPy.<module> >> This is RockPy\n",
      "2017-03-27 11:54:10,608 DEBUG:RockPy.read_abbreviations >> READING FTYPE/MTYPE abbreviations.txt\n",
      "IMPLEMENTED MEASUREMENT TYPES     : \tFTYPES\n",
      "---------------------------------------------------------------------------\n",
      "\tdiameter                  : \tgeneric\n",
      "\theight                    : \tgeneric\n",
      "\tlength                    : \tgeneric\n",
      "\tmass                      : \tgeneric\n",
      "\tparameter                 : \tgeneric\n",
      "\n"
     ]
    }
   ],
   "source": [
    "import RockPy"
   ]
  },
  {
   "cell_type": "code",
   "execution_count": 6,
   "metadata": {
    "ExecuteTime": {
     "end_time": "2017-03-27T11:55:16.912448",
     "start_time": "2017-03-27T11:55:16.908936"
    },
    "collapsed": true
   },
   "outputs": [],
   "source": [
    "import RockPy.Packages.Mag.Measurement.Simulation.paleointensity as simulate"
   ]
  },
  {
   "cell_type": "code",
   "execution_count": 7,
   "metadata": {
    "ExecuteTime": {
     "end_time": "2017-03-27T11:55:26.640959",
     "start_time": "2017-03-27T11:55:26.470622"
    },
    "collapsed": false
   },
   "outputs": [
    {
     "ename": "AttributeError",
     "evalue": "'Fabian2001' object has no attribute 'debug'",
     "output_type": "error",
     "traceback": [
      "\u001b[0;31m---------------------------------------------------------------------------\u001b[0m",
      "\u001b[0;31mAttributeError\u001b[0m                            Traceback (most recent call last)",
      "\u001b[0;32m<ipython-input-7-67a6e5ad942f>\u001b[0m in \u001b[0;36m<module>\u001b[0;34m()\u001b[0m\n\u001b[0;32m----> 1\u001b[0;31m \u001b[0mf\u001b[0m \u001b[0;34m=\u001b[0m \u001b[0msimulate\u001b[0m\u001b[0;34m.\u001b[0m\u001b[0mFabian2001\u001b[0m\u001b[0;34m(\u001b[0m\u001b[0;34m)\u001b[0m\u001b[0;34m\u001b[0m\u001b[0m\n\u001b[0m",
      "\u001b[0;32m/Users/mike/github/RockPy/RockPy/Packages/Mag/Measurement/Simulation/paleointensity.py\u001b[0m in \u001b[0;36m__init__\u001b[0;34m(self, preset, a11, a12, a13, a1t, a21, a22, a23, a2t, b1, b2, b3, bt, d1, d2, d3, dt, R, dc, grid, hpal, ms, sum, tc, temp_steps, tmax, ck_every, tr_every, ac_every)\u001b[0m\n\u001b[1;32m    245\u001b[0m \u001b[0;34m\u001b[0m\u001b[0m\n\u001b[1;32m    246\u001b[0m         \u001b[0;31m# calculate gamma function for each blocking temperature\u001b[0m\u001b[0;34m\u001b[0m\u001b[0;34m\u001b[0m\u001b[0m\n\u001b[0;32m--> 247\u001b[0;31m         \u001b[0mself\u001b[0m\u001b[0;34m.\u001b[0m\u001b[0mgammas\u001b[0m \u001b[0;34m=\u001b[0m \u001b[0;34m[\u001b[0m\u001b[0mself\u001b[0m\u001b[0;34m.\u001b[0m\u001b[0mgamma\u001b[0m\u001b[0;34m(\u001b[0m\u001b[0mtau_b\u001b[0m\u001b[0;34m)\u001b[0m \u001b[0;32mfor\u001b[0m \u001b[0mtau_b\u001b[0m \u001b[0;32min\u001b[0m \u001b[0mself\u001b[0m\u001b[0;34m.\u001b[0m\u001b[0mtau_b\u001b[0m\u001b[0;34m]\u001b[0m\u001b[0;34m\u001b[0m\u001b[0m\n\u001b[0m\u001b[1;32m    248\u001b[0m \u001b[0;34m\u001b[0m\u001b[0m\n\u001b[1;32m    249\u001b[0m         \u001b[0;31m# initiate dataframe for characteristic function\u001b[0m\u001b[0;34m\u001b[0m\u001b[0;34m\u001b[0m\u001b[0m\n",
      "\u001b[0;32m/Users/mike/github/RockPy/RockPy/Packages/Mag/Measurement/Simulation/paleointensity.py\u001b[0m in \u001b[0;36m<listcomp>\u001b[0;34m(.0)\u001b[0m\n\u001b[1;32m    245\u001b[0m \u001b[0;34m\u001b[0m\u001b[0m\n\u001b[1;32m    246\u001b[0m         \u001b[0;31m# calculate gamma function for each blocking temperature\u001b[0m\u001b[0;34m\u001b[0m\u001b[0;34m\u001b[0m\u001b[0m\n\u001b[0;32m--> 247\u001b[0;31m         \u001b[0mself\u001b[0m\u001b[0;34m.\u001b[0m\u001b[0mgammas\u001b[0m \u001b[0;34m=\u001b[0m \u001b[0;34m[\u001b[0m\u001b[0mself\u001b[0m\u001b[0;34m.\u001b[0m\u001b[0mgamma\u001b[0m\u001b[0;34m(\u001b[0m\u001b[0mtau_b\u001b[0m\u001b[0;34m)\u001b[0m \u001b[0;32mfor\u001b[0m \u001b[0mtau_b\u001b[0m \u001b[0;32min\u001b[0m \u001b[0mself\u001b[0m\u001b[0;34m.\u001b[0m\u001b[0mtau_b\u001b[0m\u001b[0;34m]\u001b[0m\u001b[0;34m\u001b[0m\u001b[0m\n\u001b[0m\u001b[1;32m    248\u001b[0m \u001b[0;34m\u001b[0m\u001b[0m\n\u001b[1;32m    249\u001b[0m         \u001b[0;31m# initiate dataframe for characteristic function\u001b[0m\u001b[0;34m\u001b[0m\u001b[0;34m\u001b[0m\u001b[0m\n",
      "\u001b[0;32m/Users/mike/github/RockPy/RockPy/Packages/Mag/Measurement/Simulation/paleointensity.py\u001b[0m in \u001b[0;36mgamma\u001b[0;34m(self, tau_b)\u001b[0m\n\u001b[1;32m    309\u001b[0m         \u001b[0mnormalizes\u001b[0m \u001b[0mthe\u001b[0m \u001b[0mintegral\u001b[0m \u001b[0mof\u001b[0m \u001b[0mchi\u001b[0m\u001b[0;34m(\u001b[0m\u001b[0mtau_b\u001b[0m\u001b[0;34m,\u001b[0m \u001b[0;34m)\u001b[0m\u001b[0;34m\u001b[0m\u001b[0m\n\u001b[1;32m    310\u001b[0m         \"\"\"\n\u001b[0;32m--> 311\u001b[0;31m         \u001b[0;32mif\u001b[0m \u001b[0mself\u001b[0m\u001b[0;34m.\u001b[0m\u001b[0mdebug\u001b[0m\u001b[0;34m:\u001b[0m\u001b[0;34m\u001b[0m\u001b[0m\n\u001b[0m\u001b[1;32m    312\u001b[0m             \u001b[0mprint\u001b[0m\u001b[0;34m(\u001b[0m\u001b[0;34m'\\tcalculating gamma(%f)'\u001b[0m \u001b[0;34m%\u001b[0m \u001b[0mtau_b\u001b[0m\u001b[0;34m)\u001b[0m\u001b[0;34m\u001b[0m\u001b[0m\n\u001b[1;32m    313\u001b[0m \u001b[0;34m\u001b[0m\u001b[0m\n",
      "\u001b[0;31mAttributeError\u001b[0m: 'Fabian2001' object has no attribute 'debug'"
     ]
    }
   ],
   "source": [
    "f = simulate.Fabian2001()"
   ]
  },
  {
   "cell_type": "code",
   "execution_count": null,
   "metadata": {
    "collapsed": true
   },
   "outputs": [],
   "source": []
  }
 ],
 "metadata": {
  "kernelspec": {
   "display_name": "Python 3",
   "language": "python",
   "name": "python3"
  },
  "language_info": {
   "codemirror_mode": {
    "name": "ipython",
    "version": 3
   },
   "file_extension": ".py",
   "mimetype": "text/x-python",
   "name": "python",
   "nbconvert_exporter": "python",
   "pygments_lexer": "ipython3",
   "version": "3.6.0"
  },
  "toc": {
   "colors": {
    "hover_highlight": "#DAA520",
    "running_highlight": "#FF0000",
    "selected_highlight": "#FFD700"
   },
   "moveMenuLeft": true,
   "nav_menu": {
    "height": "12px",
    "width": "252px"
   },
   "navigate_menu": true,
   "number_sections": true,
   "sideBar": true,
   "threshold": 4,
   "toc_cell": false,
   "toc_section_display": "block",
   "toc_window_display": true
  }
 },
 "nbformat": 4,
 "nbformat_minor": 2
}
