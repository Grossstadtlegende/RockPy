{
 "cells": [
  {
   "cell_type": "code",
   "execution_count": 1,
   "metadata": {
    "ExecuteTime": {
     "end_time": "2017-04-10T14:15:24.025592",
     "start_time": "2017-04-10T14:15:23.419772"
    },
    "collapsed": false
   },
   "outputs": [
    {
     "name": "stdout",
     "output_type": "stream",
     "text": [
      "Populating the interactive namespace from numpy and matplotlib\n"
     ]
    }
   ],
   "source": [
    "%reload_ext autoreload\n",
    "%autoreload 2\n",
    "%pylab inline"
   ]
  },
  {
   "cell_type": "code",
   "execution_count": 2,
   "metadata": {
    "ExecuteTime": {
     "end_time": "2017-04-10T14:15:24.049771",
     "start_time": "2017-04-10T14:15:24.026935"
    },
    "collapsed": false
   },
   "outputs": [],
   "source": [
    "import sys\n",
    "sys.path.append('/Users/mike/github/2016-Pressure_cleaning/code')"
   ]
  },
  {
   "cell_type": "code",
   "execution_count": 17,
   "metadata": {
    "ExecuteTime": {
     "end_time": "2017-04-10T14:55:28.752193",
     "start_time": "2017-04-10T14:55:28.719213"
    },
    "collapsed": false
   },
   "outputs": [],
   "source": [
    "import RockPy\n",
    "import pressure_cleaning_utils\n",
    "import pandas as pd\n",
    "import os.path"
   ]
  },
  {
   "cell_type": "code",
   "execution_count": 4,
   "metadata": {
    "ExecuteTime": {
     "end_time": "2017-04-10T14:15:25.069356",
     "start_time": "2017-04-10T14:15:25.031735"
    },
    "collapsed": true
   },
   "outputs": [],
   "source": [
    "import RockPy.Packages.Mag.Measurement.Simulation.paleointensity as simulate"
   ]
  },
  {
   "cell_type": "code",
   "execution_count": 12,
   "metadata": {
    "ExecuteTime": {
     "end_time": "2017-04-10T14:54:17.767547",
     "start_time": "2017-04-10T14:54:17.664301"
    },
    "collapsed": false
   },
   "outputs": [],
   "source": []
  },
  {
   "cell_type": "code",
   "execution_count": 39,
   "metadata": {
    "ExecuteTime": {
     "end_time": "2017-04-10T15:16:15.204068",
     "start_time": "2017-04-10T15:16:14.763358"
    },
    "collapsed": false
   },
   "outputs": [
    {
     "data": {
      "image/png": "[encoded data removed]",
      "text/plain": [
       "<matplotlib.figure.Figure at 0x11d580400>"
      ]
     },
     "metadata": {},
     "output_type": "display_data"
    },
    {
     "data": {
      "text/plain": [
       "<matplotlib.image.AxesImage at 0x11d487d30>"
      ]
     },
     "execution_count": 39,
     "metadata": {},
     "output_type": "execute_result"
    },
    {
     "data": {
      "image/png": "[encoded data removed]",
      "text/plain": [
       "<matplotlib.figure.Figure at 0x11ba0c438>"
      ]
     },
     "metadata": {},
     "output_type": "display_data"
    }
   ],
   "source": [
    "f = simulate.Fabian2001(preset='Fabian7a')\n",
    "imshow(f.chi)\n",
    "show()\n",
    "F8b_comp = pd.read_csv(os.path.join(RockPy.test_data_path, 'Fabian2001_7a_Chi.csv'), index_col=None,\n",
    "                               header=None)\n",
    "imshow(F8b_comp)"
   ]
  },
  {
   "cell_type": "code",
   "execution_count": 7,
   "metadata": {
    "ExecuteTime": {
     "end_time": "2017-04-10T14:15:42.886258",
     "start_time": "2017-04-10T14:15:42.763252"
    },
    "collapsed": false
   },
   "outputs": [],
   "source": [
    "f.chi.to_clipboard()"
   ]
  },
  {
   "cell_type": "code",
   "execution_count": 239,
   "metadata": {
    "ExecuteTime": {
     "end_time": "2017-04-09T21:55:21.575212",
     "start_time": "2017-04-09T21:55:21.529642"
    },
    "collapsed": false
   },
   "outputs": [
    {
     "data": {
      "text/plain": [
       "((101, 101), (101, 101))"
      ]
     },
     "execution_count": 239,
     "metadata": {},
     "output_type": "execute_result"
    }
   ],
   "source": [
    "Hold.shape, Hnew.shape"
   ]
  },
  {
   "cell_type": "code",
   "execution_count": 243,
   "metadata": {
    "ExecuteTime": {
     "end_time": "2017-04-09T21:56:23.348056",
     "start_time": "2017-04-09T21:56:23.292675"
    },
    "collapsed": false,
    "scrolled": false
   },
   "outputs": [
    {
     "data": {
      "text/plain": [
       "True"
      ]
     },
     "execution_count": 243,
     "metadata": {},
     "output_type": "execute_result"
    }
   ],
   "source": [
    "Hnew = f.get_H_matrix(0.5, 0.7)\n",
    "Hold = f.get_H_matrix_OLD(0.5, 0.7)\n",
    "\n",
    "\n",
    "# for row, data in enumerate(Hnew):\n",
    "#     a = Hnew[row] == Hold[row,:]\n",
    "#     if not a.all():\n",
    "#         for i,n in enumerate(a):\n",
    "#             if not n:\n",
    "#                 print(row, i, n)"
   ]
  },
  {
   "cell_type": "code",
   "execution_count": 228,
   "metadata": {
    "ExecuteTime": {
     "end_time": "2017-04-09T21:29:39.708156",
     "start_time": "2017-04-09T21:29:39.662377"
    },
    "collapsed": false
   },
   "outputs": [
    {
     "data": {
      "text/plain": [
       "array([[ 0.7,  0.7,  0.7, ...,  0. ,  0. ,  0. ],\n",
       "       [ 0.7,  0.7,  0.7, ...,  0. ,  0. ,  0. ],\n",
       "       [ 0.7,  0.7,  0.7, ...,  0. ,  0. ,  0. ],\n",
       "       ..., \n",
       "       [ 1. ,  1. ,  1. , ...,  1. ,  1. ,  1. ],\n",
       "       [ 1. ,  1. ,  1. , ...,  1. ,  1. ,  1. ],\n",
       "       [ 1. ,  1. ,  1. , ...,  1. ,  1. ,  1. ]])"
      ]
     },
     "execution_count": 228,
     "metadata": {},
     "output_type": "execute_result"
    }
   ],
   "source": [
    "f.get_H_matrix(0.5, 0.7)"
   ]
  },
  {
   "cell_type": "code",
   "execution_count": 236,
   "metadata": {
    "ExecuteTime": {
     "end_time": "2017-04-09T21:53:33.491987",
     "start_time": "2017-04-09T21:53:32.925900"
    },
    "collapsed": false
   },
   "outputs": [
    {
     "data": {
      "image/png": "[encoded data removed]",
      "text/plain": [
       "<matplotlib.figure.Figure at 0x1164d8160>"
      ]
     },
     "metadata": {},
     "output_type": "display_data"
    },
    {
     "data": {
      "text/plain": [
       "<matplotlib.colorbar.Colorbar at 0x115136a58>"
      ]
     },
     "execution_count": 236,
     "metadata": {},
     "output_type": "execute_result"
    },
    {
     "data": {
      "image/png": "[encoded data removed]",
      "text/plain": [
       "<matplotlib.figure.Figure at 0x1159cbfd0>"
      ]
     },
     "metadata": {},
     "output_type": "display_data"
    }
   ],
   "source": [
    "imshow(f.get_H_matrix(0.2, 0.7))\n",
    "colorbar()\n",
    "show()\n",
    "imshow(f.get_H_matrix_OLD(0.2, 0.7))\n",
    "colorbar()"
   ]
  },
  {
   "cell_type": "code",
   "execution_count": 134,
   "metadata": {
    "ExecuteTime": {
     "end_time": "2017-04-09T20:56:11.590584",
     "start_time": "2017-04-09T20:56:11.386664"
    },
    "collapsed": true
   },
   "outputs": [],
   "source": [
    "fcomp = pressure_cleaning_utils.Fabian2001()"
   ]
  },
  {
   "cell_type": "code",
   "execution_count": 231,
   "metadata": {
    "ExecuteTime": {
     "end_time": "2017-04-09T21:29:56.634750",
     "start_time": "2017-04-09T21:29:56.594109"
    },
    "collapsed": false
   },
   "outputs": [
    {
     "name": "stdout",
     "output_type": "stream",
     "text": [
      " "
     ]
    }
   ],
   "source": [
    "%prun f.get_H_matrix_new(0.5, 0.7)"
   ]
  },
  {
   "cell_type": "code",
   "execution_count": 137,
   "metadata": {
    "ExecuteTime": {
     "end_time": "2017-04-09T20:56:31.645489",
     "start_time": "2017-04-09T20:56:29.202118"
    },
    "collapsed": false
   },
   "outputs": [
    {
     "name": "stdout",
     "output_type": "stream",
     "text": [
      "The slowest run took 39.38 times longer than the fastest. This could mean that an intermediate result is being cached.\n",
      "10000000 loops, best of 3: 55.9 ns per loop\n"
     ]
    }
   ],
   "source": [
    "%timeit fcomp.get_chi_grid"
   ]
  },
  {
   "cell_type": "code",
   "execution_count": 95,
   "metadata": {
    "ExecuteTime": {
     "end_time": "2017-03-27T13:24:06.596855",
     "start_time": "2017-03-27T13:24:06.498803"
    },
    "collapsed": true
   },
   "outputs": [],
   "source": [
    "x = linspace(-2,2, 1000)\n",
    "pm = 0.5\n",
    "p1 = 0.\n",
    "p2 = 0.9\n",
    "pt = 0.\n",
    "p3 = 0.6"
   ]
  },
  {
   "cell_type": "code",
   "execution_count": 96,
   "metadata": {
    "ExecuteTime": {
     "end_time": "2017-03-27T13:24:07.090371",
     "start_time": "2017-03-27T13:24:06.992293"
    },
    "collapsed": false
   },
   "outputs": [],
   "source": [
    "pd = (p1 + p2 * f.cauchy(x-pt, p3))\n",
    "pd /= max(pd)\n",
    "pd *=pm"
   ]
  },
  {
   "cell_type": "code",
   "execution_count": 99,
   "metadata": {
    "ExecuteTime": {
     "end_time": "2017-03-27T13:25:15.805372",
     "start_time": "2017-03-27T13:25:15.474882"
    },
    "collapsed": false
   },
   "outputs": [
    {
     "data": {
      "text/plain": [
       "[<matplotlib.lines.Line2D at 0x11553f320>]"
      ]
     },
     "execution_count": 99,
     "metadata": {},
     "output_type": "execute_result"
    },
    {
     "data": {
      "image/png": "[encoded data removed]",
      "text/plain": [
       "<matplotlib.figure.Figure at 0x115431b00>"
      ]
     },
     "metadata": {},
     "output_type": "display_data"
    }
   ],
   "source": [
    "plot(x, pd)\n",
    "plot(x, 1-pd)\n",
    "gca().twinx().plot(x, pm+(cumsum(pd)/max(cumsum(pd))))"
   ]
  },
  {
   "cell_type": "code",
   "execution_count": 45,
   "metadata": {
    "ExecuteTime": {
     "end_time": "2017-04-09T20:24:04.317811",
     "start_time": "2017-04-09T20:24:04.263393"
    },
    "collapsed": true
   },
   "outputs": [],
   "source": [
    "tub = np.linspace(0,1,100)\n",
    "tb = np.linspace(0,1,100)"
   ]
  },
  {
   "cell_type": "code",
   "execution_count": 44,
   "metadata": {
    "ExecuteTime": {
     "end_time": "2017-04-09T20:21:21.880907",
     "start_time": "2017-04-09T20:21:17.613013"
    },
    "collapsed": false
   },
   "outputs": [
    {
     "name": "stdout",
     "output_type": "stream",
     "text": [
      "10000 loops, best of 3: 98.5 µs per loop\n"
     ]
    }
   ],
   "source": [
    "def test(i):\n",
    "    if i > 0:\n",
    "        t1 = np.concatenate([a <= i] for n in np.nditer(tub)).reshape(100,100)\n",
    "        t2 = np.concatenate([a <= i] for n in np.nditer(tb)).reshape(100,100)\n",
    "        t12 = t1 & t2\n",
    "    "
   ]
  },
  {
   "cell_type": "code",
   "execution_count": null,
   "metadata": {
    "collapsed": true
   },
   "outputs": [],
   "source": [
    "#        if tau_i >= tau_ub and tau_i >= tau_b and tau_i > 0:\n",
    "#        elif tau_ub > tau_i or tau_i == 0:"
   ]
  },
  {
   "cell_type": "code",
   "execution_count": 211,
   "metadata": {
    "ExecuteTime": {
     "end_time": "2017-04-09T21:25:31.596531",
     "start_time": "2017-04-09T21:25:31.518762"
    },
    "collapsed": false
   },
   "outputs": [
    {
     "data": {
      "text/plain": [
       "(3, 4)"
      ]
     },
     "execution_count": 211,
     "metadata": {},
     "output_type": "execute_result"
    }
   ],
   "source": [
    "a= np.arange(16).reshape(4,4)\n",
    "a[:3,:].shape"
   ]
  },
  {
   "cell_type": "code",
   "execution_count": 214,
   "metadata": {
    "ExecuteTime": {
     "end_time": "2017-04-09T21:26:06.875191",
     "start_time": "2017-04-09T21:26:06.837214"
    },
    "collapsed": false
   },
   "outputs": [
    {
     "data": {
      "text/plain": [
       "(array([1, 2, 3]), (3,))"
      ]
     },
     "execution_count": 214,
     "metadata": {},
     "output_type": "execute_result"
    }
   ],
   "source": [
    "b = array([1,2,3])\n",
    "b, b.shape"
   ]
  },
  {
   "cell_type": "code",
   "execution_count": 220,
   "metadata": {
    "ExecuteTime": {
     "end_time": "2017-04-09T21:26:55.207752",
     "start_time": "2017-04-09T21:26:55.170751"
    },
    "collapsed": false
   },
   "outputs": [],
   "source": [
    "b = b.reshape(b.shape[0],1)"
   ]
  },
  {
   "cell_type": "code",
   "execution_count": 221,
   "metadata": {
    "ExecuteTime": {
     "end_time": "2017-04-09T21:26:56.357117",
     "start_time": "2017-04-09T21:26:56.321634"
    },
    "collapsed": false
   },
   "outputs": [
    {
     "data": {
      "text/plain": [
       "array([[ 0,  1,  2,  3],\n",
       "       [ 4,  5,  6,  7],\n",
       "       [ 8,  9, 10, 11],\n",
       "       [12, 13, 14, 15]])"
      ]
     },
     "execution_count": 221,
     "metadata": {},
     "output_type": "execute_result"
    }
   ],
   "source": [
    "a"
   ]
  },
  {
   "cell_type": "code",
   "execution_count": 222,
   "metadata": {
    "ExecuteTime": {
     "end_time": "2017-04-09T21:26:57.030349",
     "start_time": "2017-04-09T21:26:56.995011"
    },
    "collapsed": false
   },
   "outputs": [
    {
     "data": {
      "text/plain": [
       "array([[ 1,  2,  3,  4],\n",
       "       [ 6,  7,  8,  9],\n",
       "       [11, 12, 13, 14]])"
      ]
     },
     "execution_count": 222,
     "metadata": {},
     "output_type": "execute_result"
    }
   ],
   "source": [
    "a[:3,:] + b"
   ]
  },
  {
   "cell_type": "code",
   "execution_count": null,
   "metadata": {
    "collapsed": true
   },
   "outputs": [],
   "source": []
  }
 ],
 "metadata": {
  "kernelspec": {
   "display_name": "Python 3",
   "language": "python",
   "name": "python3"
  },
  "language_info": {
   "codemirror_mode": {
    "name": "ipython",
    "version": 3
   },
   "file_extension": ".py",
   "mimetype": "text/x-python",
   "name": "python",
   "nbconvert_exporter": "python",
   "pygments_lexer": "ipython3",
   "version": "3.6.0"
  },
  "toc": {
   "colors": {
    "hover_highlight": "#DAA520",
    "running_highlight": "#FF0000",
    "selected_highlight": "#FFD700"
   },
   "moveMenuLeft": true,
   "nav_menu": {
    "height": "12px",
    "width": "252px"
   },
   "navigate_menu": true,
   "number_sections": true,
   "sideBar": true,
   "threshold": 4,
   "toc_cell": false,
   "toc_section_display": "block",
   "toc_window_display": true
  }
 },
 "nbformat": 4,
 "nbformat_minor": 2
}
