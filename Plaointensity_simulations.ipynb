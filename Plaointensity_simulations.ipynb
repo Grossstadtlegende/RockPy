{
 "cells": [
  {
   "cell_type": "code",
   "execution_count": 47,
   "metadata": {
    "ExecuteTime": {
     "end_time": "2017-03-27T13:16:32.174719",
     "start_time": "2017-03-27T13:16:32.030725"
    },
    "collapsed": false
   },
   "outputs": [
    {
     "name": "stdout",
     "output_type": "stream",
     "text": [
      "Populating the interactive namespace from numpy and matplotlib\n"
     ]
    }
   ],
   "source": [
    "%reload_ext autoreload\n",
    "%autoreload 2\n",
    "%pylab inline"
   ]
  },
  {
   "cell_type": "code",
   "execution_count": 48,
   "metadata": {
    "ExecuteTime": {
     "end_time": "2017-03-27T13:16:32.354170",
     "start_time": "2017-03-27T13:16:32.221580"
    },
    "collapsed": false
   },
   "outputs": [],
   "source": [
    "import sys\n",
    "sys.path.append('/Users/mike/github/2016-Pressure_cleaning/code')"
   ]
  },
  {
   "cell_type": "code",
   "execution_count": 49,
   "metadata": {
    "ExecuteTime": {
     "end_time": "2017-03-27T13:16:32.737245",
     "start_time": "2017-03-27T13:16:32.622281"
    },
    "collapsed": false
   },
   "outputs": [],
   "source": [
    "import RockPy\n",
    "import pressure_cleaning_utils"
   ]
  },
  {
   "cell_type": "code",
   "execution_count": 50,
   "metadata": {
    "ExecuteTime": {
     "end_time": "2017-03-27T13:16:32.935935",
     "start_time": "2017-03-27T13:16:32.826206"
    },
    "collapsed": true
   },
   "outputs": [],
   "source": [
    "import RockPy.Packages.Mag.Measurement.Simulation.paleointensity as simulate"
   ]
  },
  {
   "cell_type": "code",
   "execution_count": 51,
   "metadata": {
    "ExecuteTime": {
     "end_time": "2017-03-27T13:16:33.189007",
     "start_time": "2017-03-27T13:16:33.022854"
    },
    "collapsed": false
   },
   "outputs": [],
   "source": [
    "f = simulate.Fabian2001()"
   ]
  },
  {
   "cell_type": "code",
   "execution_count": 52,
   "metadata": {
    "ExecuteTime": {
     "end_time": "2017-03-27T13:16:33.507016",
     "start_time": "2017-03-27T13:16:33.208940"
    },
    "collapsed": true
   },
   "outputs": [],
   "source": [
    "fcomp = pressure_cleaning_utils.Fabian2001()"
   ]
  },
  {
   "cell_type": "code",
   "execution_count": 44,
   "metadata": {
    "ExecuteTime": {
     "end_time": "2017-03-27T13:16:09.710244",
     "start_time": "2017-03-27T13:16:06.960869"
    },
    "collapsed": false
   },
   "outputs": [
    {
     "name": "stdout",
     "output_type": "stream",
     "text": [
      "The slowest run took 22.36 times longer than the fastest. This could mean that an intermediate result is being cached.\n",
      "10000000 loops, best of 3: 63.8 ns per loop\n"
     ]
    }
   ],
   "source": [
    "%timeit f.get_chi_grid"
   ]
  },
  {
   "cell_type": "code",
   "execution_count": 45,
   "metadata": {
    "ExecuteTime": {
     "end_time": "2017-03-27T13:16:12.589953",
     "start_time": "2017-03-27T13:16:09.711964"
    },
    "collapsed": false
   },
   "outputs": [
    {
     "name": "stdout",
     "output_type": "stream",
     "text": [
      "The slowest run took 14.95 times longer than the fastest. This could mean that an intermediate result is being cached.\n",
      "10000000 loops, best of 3: 67.3 ns per loop\n"
     ]
    }
   ],
   "source": [
    "%timeit fcomp.get_chi_grid"
   ]
  },
  {
   "cell_type": "code",
   "execution_count": 95,
   "metadata": {
    "ExecuteTime": {
     "end_time": "2017-03-27T13:24:06.596855",
     "start_time": "2017-03-27T13:24:06.498803"
    },
    "collapsed": true
   },
   "outputs": [],
   "source": [
    "x = linspace(-2,2, 1000)\n",
    "pm = 0.5\n",
    "p1 = 0.\n",
    "p2 = 0.9\n",
    "pt = 0.\n",
    "p3 = 0.6"
   ]
  },
  {
   "cell_type": "code",
   "execution_count": 96,
   "metadata": {
    "ExecuteTime": {
     "end_time": "2017-03-27T13:24:07.090371",
     "start_time": "2017-03-27T13:24:06.992293"
    },
    "collapsed": false
   },
   "outputs": [],
   "source": [
    "pd = (p1 + p2 * f.cauchy(x-pt, p3))\n",
    "pd /= max(pd)\n",
    "pd *=pm"
   ]
  },
  {
   "cell_type": "code",
   "execution_count": 99,
   "metadata": {
    "ExecuteTime": {
     "end_time": "2017-03-27T13:25:15.805372",
     "start_time": "2017-03-27T13:25:15.474882"
    },
    "collapsed": false
   },
   "outputs": [
    {
     "data": {
      "text/plain": [
       "[<matplotlib.lines.Line2D at 0x11553f320>]"
      ]
     },
     "execution_count": 99,
     "metadata": {},
     "output_type": "execute_result"
    },
    {
     "data": {
      "image/png": "[encoded data removed]",
      "text/plain": [
       "<matplotlib.figure.Figure at 0x115431b00>"
      ]
     },
     "metadata": {},
     "output_type": "display_data"
    }
   ],
   "source": [
    "plot(x, pd)\n",
    "plot(x, 1-pd)\n",
    "gca().twinx().plot(x, pm+(cumsum(pd)/max(cumsum(pd))))"
   ]
  },
  {
   "cell_type": "code",
   "execution_count": null,
   "metadata": {
    "collapsed": true
   },
   "outputs": [],
   "source": []
  }
 ],
 "metadata": {
  "kernelspec": {
   "display_name": "Python 3",
   "language": "python",
   "name": "python3"
  },
  "language_info": {
   "codemirror_mode": {
    "name": "ipython",
    "version": 3
   },
   "file_extension": ".py",
   "mimetype": "text/x-python",
   "name": "python",
   "nbconvert_exporter": "python",
   "pygments_lexer": "ipython3",
   "version": "3.6.0"
  },
  "toc": {
   "colors": {
    "hover_highlight": "#DAA520",
    "running_highlight": "#FF0000",
    "selected_highlight": "#FFD700"
   },
   "moveMenuLeft": true,
   "nav_menu": {
    "height": "12px",
    "width": "252px"
   },
   "navigate_menu": true,
   "number_sections": true,
   "sideBar": true,
   "threshold": 4,
   "toc_cell": false,
   "toc_section_display": "block",
   "toc_window_display": true
  }
 },
 "nbformat": 4,
 "nbformat_minor": 2
}
