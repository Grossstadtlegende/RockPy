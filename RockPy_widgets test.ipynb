{
 "cells": [
  {
   "cell_type": "code",
   "execution_count": 1,
   "metadata": {
    "ExecuteTime": {
     "end_time": "2018-05-15T20:28:34.333920Z",
     "start_time": "2018-05-15T20:28:33.306988Z"
    }
   },
   "outputs": [
    {
     "name": "stdout",
     "output_type": "stream",
     "text": [
      "15:28:33 DEBUG:RockPy.<module> >> This is RockPy\n",
      "15:28:33 DEBUG:RockPy.<module> >> Installation dr: /Users/mike/Dropbox/github/RockPy/RockPy\n",
      "15:28:33 DEBUG:RockPy.read_abbreviations >> READING FTYPE/MTYPE abbreviations.txt\n",
      "IMPLEMENTED MEASUREMENT TYPES     : \tFTYPES\n",
      "---------------------------------------------------------------------------\n",
      "\tdiameter                  : \tgeneric\n",
      "\theight                    : \tgeneric\n",
      "\thysteresis                : \tvsm\n",
      "\tlength                    : \tgeneric\n",
      "\tmass                      : \tgeneric\n",
      "\tpaleointensity            : \tcryomag, jr6, tdt\n",
      "\tparameter                 : \tgeneric\n",
      "\n",
      "15:28:34 INFO:RockPy.<module> >> creating Masterstudy. Can be used with ``RockPy.MasterStudy``\n",
      "Populating the interactive namespace from numpy and matplotlib\n"
     ]
    }
   ],
   "source": [
    "%load_ext autoreload\n",
    "%autoreload 2\n",
    "\n",
    "import os\n",
    "import RockPy\n",
    "import pandas as pd\n",
    "from scipy import stats\n",
    "\n",
    "%pylab inline"
   ]
  },
  {
   "cell_type": "code",
   "execution_count": 26,
   "metadata": {
    "ExecuteTime": {
     "end_time": "2018-05-15T20:35:58.189932Z",
     "start_time": "2018-05-15T20:35:58.106485Z"
    }
   },
   "outputs": [],
   "source": [
    "S = RockPy.Study()"
   ]
  },
  {
   "cell_type": "code",
   "execution_count": 35,
   "metadata": {
    "ExecuteTime": {
     "end_time": "2018-05-15T20:42:50.685177Z",
     "start_time": "2018-05-15T20:42:50.523041Z"
    },
    "scrolled": false
   },
   "outputs": [
    {
     "data": {
      "application/vnd.jupyter.widget-view+json": {
       "model_id": "92c1afc11c0541b59c76db534558ce39",
       "version_major": 2,
       "version_minor": 0
      },
      "text/html": [
       "<p>Failed to display Jupyter Widget of type <code>HBox</code>.</p>\n",
       "<p>\n",
       "  If you're reading this message in the Jupyter Notebook or JupyterLab Notebook, it may mean\n",
       "  that the widgets JavaScript is still loading. If this message persists, it\n",
       "  likely means that the widgets JavaScript library is either not installed or\n",
       "  not enabled. See the <a href=\"https://ipywidgets.readthedocs.io/en/stable/user_install.html\">Jupyter\n",
       "  Widgets Documentation</a> for setup instructions.\n",
       "</p>\n",
       "<p>\n",
       "  If you're reading this message in another frontend (for example, a static\n",
       "  rendering on GitHub or <a href=\"https://nbviewer.jupyter.org/\">NBViewer</a>),\n",
       "  it may mean that your frontend doesn't currently support widgets.\n",
       "</p>\n"
      ],
      "text/plain": [
       "HBox(children=(VBox(children=(HBox(children=(Text(value='', description='name:', layout=Layout(width='325px')), Button(description='create', layout=Layout(width='75px'), style=ButtonStyle())), layout=Layout(width='400px')), HBox(children=(FloatText(value=0.0, description='mass:', layout=Layout(width='243px')), Dropdown(description='unit', index=3, layout=Layout(width='150px'), options=('T', 'kg', 'g', 'mg', 'mug', 'ng'), value='mg')), layout=Layout(width='450px')), Textarea(value='', description='comment', layout=Layout(height='30px', width='397px'), placeholder=''))), Textarea(value='S11\\nS16\\nsample_name\\ntest\\nw', description='Sample list:', disabled=True, layout=Layout(height='160px', width='25%'), placeholder='No samples yet')), layout=Layout(width='100%'))"
      ]
     },
     "metadata": {},
     "output_type": "display_data"
    },
    {
     "name": "stdout",
     "output_type": "stream",
     "text": [
      "15:42:51 DEBUG:RockPy.Sample.__init__ >> Creating Sample[4711843992] S17:17\n",
      "15:42:51 ERROR:RockPy.Sample.__init__ >> STUDY not a valid RockPy3.core.Study object. Using RockPy Masterstudy\n",
      "15:42:52 DEBUG:RockPy.Sample.__init__ >> Creating Sample[4709198424] S18:18\n",
      "15:42:52 ERROR:RockPy.Sample.__init__ >> STUDY not a valid RockPy3.core.Study object. Using RockPy Masterstudy\n"
     ]
    }
   ],
   "source": [
    "S.widget_add_sample()"
   ]
  },
  {
   "cell_type": "code",
   "execution_count": 7,
   "metadata": {
    "ExecuteTime": {
     "end_time": "2018-05-15T20:15:42.507794Z",
     "start_time": "2018-05-15T20:15:42.447014Z"
    }
   },
   "outputs": [
    {
     "data": {
      "text/plain": [
       "['T',\n",
       " 'angst',\n",
       " 'cm',\n",
       " 'dm',\n",
       " 'g',\n",
       " 'inch',\n",
       " 'kg',\n",
       " 'km',\n",
       " 'm',\n",
       " 'mg',\n",
       " 'mm',\n",
       " 'mug',\n",
       " 'mum',\n",
       " 'ng',\n",
       " 'nm']"
      ]
     },
     "execution_count": 7,
     "metadata": {},
     "output_type": "execute_result"
    }
   ],
   "source": [
    "sorted(RockPy.core.utils.conversion_table.columns)"
   ]
  },
  {
   "cell_type": "code",
   "execution_count": 5,
   "metadata": {
    "ExecuteTime": {
     "end_time": "2018-05-15T20:04:17.534897Z",
     "start_time": "2018-05-15T20:04:17.473783Z"
    }
   },
   "outputs": [],
   "source": [
    "s = S.sample_list[0]"
   ]
  },
  {
   "cell_type": "code",
   "execution_count": 57,
   "metadata": {
    "ExecuteTime": {
     "end_time": "2018-05-15T20:00:09.867141Z",
     "start_time": "2018-05-15T20:00:09.806268Z"
    }
   },
   "outputs": [
    {
     "data": {
      "text/plain": [
       "(<property at 0x11591fe58>, [<< RockPy3.Sample.test >>])"
      ]
     },
     "execution_count": 57,
     "metadata": {},
     "output_type": "execute_result"
    }
   ],
   "source": [
    "s.study.sample_list, S.sample_list"
   ]
  },
  {
   "cell_type": "code",
   "execution_count": 59,
   "metadata": {
    "ExecuteTime": {
     "end_time": "2018-05-15T20:00:25.536539Z",
     "start_time": "2018-05-15T20:00:25.471190Z"
    }
   },
   "outputs": [
    {
     "data": {
      "text/plain": [
       "(RockPy.core.study.Study, << RockPy.Study.20180515:1457 -- 4656215712 >>)"
      ]
     },
     "execution_count": 59,
     "metadata": {},
     "output_type": "execute_result"
    }
   ],
   "source": [
    "s.study, S"
   ]
  },
  {
   "cell_type": "code",
   "execution_count": null,
   "metadata": {
    "ExecuteTime": {
     "end_time": "2018-05-15T19:24:28.380549Z",
     "start_time": "2018-05-15T19:24:27.132Z"
    }
   },
   "outputs": [],
   "source": [
    "m = s.add_measurement(fpath='/Users/mike/Dropbox/github/RockPy/RockPy/tests/test_data/VSM/hys_vsm.001', \n",
    "                      ftype='vsm',\n",
    "                      mtype='hys')"
   ]
  },
  {
   "cell_type": "code",
   "execution_count": null,
   "metadata": {
    "ExecuteTime": {
     "end_time": "2018-05-15T19:24:28.381592Z",
     "start_time": "2018-05-15T19:24:27.136Z"
    }
   },
   "outputs": [],
   "source": [
    "s[0]"
   ]
  },
  {
   "cell_type": "code",
   "execution_count": null,
   "metadata": {},
   "outputs": [],
   "source": []
  }
 ],
 "metadata": {
  "kernelspec": {
   "display_name": "Python 3",
   "language": "python",
   "name": "python3"
  },
  "language_info": {
   "codemirror_mode": {
    "name": "ipython",
    "version": 3
   },
   "file_extension": ".py",
   "mimetype": "text/x-python",
   "name": "python",
   "nbconvert_exporter": "python",
   "pygments_lexer": "ipython3",
   "version": "3.6.4"
  },
  "toc": {
   "base_numbering": 1,
   "nav_menu": {},
   "number_sections": true,
   "sideBar": true,
   "skip_h1_title": false,
   "title_cell": "Table of Contents",
   "title_sidebar": "Contents",
   "toc_cell": false,
   "toc_position": {},
   "toc_section_display": "block",
   "toc_window_display": true
  },
  "varInspector": {
   "cols": {
    "lenName": 16,
    "lenType": 16,
    "lenVar": 40
   },
   "kernels_config": {
    "python": {
     "delete_cmd_postfix": "",
     "delete_cmd_prefix": "del ",
     "library": "var_list.py",
     "varRefreshCmd": "print(var_dic_list())"
    },
    "r": {
     "delete_cmd_postfix": ") ",
     "delete_cmd_prefix": "rm(",
     "library": "var_list.r",
     "varRefreshCmd": "cat(var_dic_list()) "
    }
   },
   "types_to_exclude": [
    "module",
    "function",
    "builtin_function_or_method",
    "instance",
    "_Feature"
   ],
   "window_display": false
  }
 },
 "nbformat": 4,
 "nbformat_minor": 2
}
