{
 "cells": [
  {
   "cell_type": "code",
   "execution_count": 1,
   "metadata": {
    "ExecuteTime": {
     "end_time": "2017-05-20T00:02:36.057251Z",
     "start_time": "2017-05-19T19:02:36.038028-05:00"
    },
    "collapsed": true
   },
   "outputs": [],
   "source": [
    "%reload_ext autoreload\n",
    "%autoreload 2"
   ]
  },
  {
   "cell_type": "code",
   "execution_count": 2,
   "metadata": {
    "ExecuteTime": {
     "end_time": "2017-05-20T00:02:37.360002Z",
     "start_time": "2017-05-19T19:02:36.059495-05:00"
    },
    "collapsed": false
   },
   "outputs": [
    {
     "name": "stdout",
     "output_type": "stream",
     "text": [
      "2017-05-19 19:09:16,631 DEBUG:RockPy.<module> >> This is RockPy\n",
      "2017-05-19 19:09:16,632 DEBUG:RockPy.<module> >> Installation dr: /Users/mike/github/RockPy/RockPy\n",
      "2017-05-19 19:09:16,633 DEBUG:RockPy.read_abbreviations >> READING FTYPE/MTYPE abbreviations.txt\n",
      "IMPLEMENTED MEASUREMENT TYPES     : \tFTYPES\n",
      "---------------------------------------------------------------------------\n",
      "\tdiameter                  : \tgeneric\n",
      "\theight                    : \tgeneric\n",
      "\thysteresis                : \tvsm\n",
      "\tlength                    : \tgeneric\n",
      "\tmass                      : \tgeneric\n",
      "\tpaleointensity            : \tjr6, tdt\n",
      "\tparameter                 : \tgeneric\n",
      "\n",
      "2017-05-19 19:09:17,250 INFO:RockPy.<module> >> creating Masterstudy. Can be used with ``RockPy.MasterStudy``\n"
     ]
    }
   ],
   "source": [
    "import sys\n",
    "sys.path.append('/Users/mike/github/RockPy')\n",
    "import RockPy\n"
   ]
  },
  {
   "cell_type": "code",
   "execution_count": 3,
   "metadata": {
    "ExecuteTime": {
     "end_time": "2017-05-20T00:04:20.182618Z",
     "start_time": "2017-05-19T19:04:20.079657-05:00"
    },
    "collapsed": false,
    "scrolled": false
   },
   "outputs": [
    {
     "name": "stdout",
     "output_type": "stream",
     "text": [
      "2017-05-19 19:09:17,347 DEBUG:RockPy.Sample.__init__ >> Creating Sample[4745905096] 61:1\n",
      "2017-05-19 19:09:17,380 DEBUG:RockPy.paleointensity.__init__ >> Creating measurement: id:4745905712 idx:0\n",
      "2017-05-19 19:09:17,382 DEBUG:RockPy.banc.__init__ >> initializing instance banc\n",
      "2017-05-19 19:09:17,383 DEBUG:RockPy.banc.set_default_recipe >> default_recipe recipe for banc not specified setting to only available << default >>\n",
      "2017-05-19 19:09:17,385 DEBUG:RockPy.banc.set_default_recipe >> setting default_recipe recipe << default >> for banc\n",
      "2017-05-19 19:09:17,386 DEBUG:RockPy.paleointensity.__init_results >> replacing class banc with instance <Mag.Measurement.paleointensity.Paleointensity.banc object at 0x11ae23748>\n",
      "2017-05-19 19:09:17,387 DEBUG:RockPy.beta.__init__ >> initializing instance beta\n",
      "2017-05-19 19:09:17,388 DEBUG:RockPy.beta.set_default_recipe >> default_recipe recipe for beta not specified setting to only available << default >>\n",
      "2017-05-19 19:09:17,389 DEBUG:RockPy.beta.set_default_recipe >> setting default_recipe recipe << default >> for beta\n",
      "2017-05-19 19:09:17,390 DEBUG:RockPy.paleointensity.__init_results >> replacing class beta with instance <Mag.Measurement.paleointensity.Paleointensity.beta object at 0x11ae238d0>\n",
      "2017-05-19 19:09:17,391 DEBUG:RockPy.f.__init__ >> initializing instance f\n",
      "2017-05-19 19:09:17,393 DEBUG:RockPy.f.set_default_recipe >> default_recipe recipe for f not specified setting to only available << default >>\n",
      "2017-05-19 19:09:17,395 DEBUG:RockPy.f.set_default_recipe >> setting default_recipe recipe << default >> for f\n",
      "2017-05-19 19:09:17,396 DEBUG:RockPy.paleointensity.__init_results >> replacing class f with instance <Mag.Measurement.paleointensity.Paleointensity.f object at 0x11ae23940>\n",
      "2017-05-19 19:09:17,397 DEBUG:RockPy.frac.__init__ >> initializing instance frac\n",
      "2017-05-19 19:09:17,398 DEBUG:RockPy.frac.set_default_recipe >> default_recipe recipe for frac not specified setting to only available << default >>\n",
      "2017-05-19 19:09:17,400 DEBUG:RockPy.frac.set_default_recipe >> setting default_recipe recipe << default >> for frac\n",
      "2017-05-19 19:09:17,401 DEBUG:RockPy.paleointensity.__init_results >> replacing class frac with instance <Mag.Measurement.paleointensity.Paleointensity.frac object at 0x11ae236d8>\n",
      "2017-05-19 19:09:17,403 DEBUG:RockPy.fvds.__init__ >> initializing instance fvds\n",
      "2017-05-19 19:09:17,405 DEBUG:RockPy.fvds.set_default_recipe >> default_recipe recipe for fvds not specified setting to only available << default >>\n",
      "2017-05-19 19:09:17,406 DEBUG:RockPy.fvds.set_default_recipe >> setting default_recipe recipe << default >> for fvds\n",
      "2017-05-19 19:09:17,407 DEBUG:RockPy.paleointensity.__init_results >> replacing class fvds with instance <Mag.Measurement.paleointensity.Paleointensity.fvds object at 0x11ae23860>\n",
      "2017-05-19 19:09:17,408 DEBUG:RockPy.g.__init__ >> initializing instance g\n",
      "2017-05-19 19:09:17,410 DEBUG:RockPy.g.set_default_recipe >> default_recipe recipe for g not specified setting to only available << default >>\n",
      "2017-05-19 19:09:17,411 DEBUG:RockPy.g.set_default_recipe >> setting default_recipe recipe << default >> for g\n",
      "2017-05-19 19:09:17,413 DEBUG:RockPy.paleointensity.__init_results >> replacing class g with instance <Mag.Measurement.paleointensity.Paleointensity.g object at 0x11ae235c0>\n",
      "2017-05-19 19:09:17,414 DEBUG:RockPy.gapmax.__init__ >> initializing instance gapmax\n",
      "2017-05-19 19:09:17,417 DEBUG:RockPy.gapmax.set_default_recipe >> default_recipe recipe for gapmax not specified setting to only available << default >>\n",
      "2017-05-19 19:09:17,418 DEBUG:RockPy.gapmax.set_default_recipe >> setting default_recipe recipe << default >> for gapmax\n",
      "2017-05-19 19:09:17,420 DEBUG:RockPy.paleointensity.__init_results >> replacing class gapmax with instance <Mag.Measurement.paleointensity.Paleointensity.gapmax object at 0x11ae23a20>\n",
      "2017-05-19 19:09:17,421 DEBUG:RockPy.n.__init__ >> initializing instance n\n",
      "2017-05-19 19:09:17,423 DEBUG:RockPy.n.set_default_recipe >> default_recipe recipe for n not specified setting to only available << default >>\n",
      "2017-05-19 19:09:17,424 DEBUG:RockPy.n.set_default_recipe >> setting default_recipe recipe << default >> for n\n",
      "2017-05-19 19:09:17,425 DEBUG:RockPy.paleointensity.__init_results >> replacing class n with instance <Mag.Measurement.paleointensity.Paleointensity.n object at 0x11ae23ac8>\n",
      "2017-05-19 19:09:17,426 DEBUG:RockPy.q.__init__ >> initializing instance q\n",
      "2017-05-19 19:09:17,427 DEBUG:RockPy.q.set_default_recipe >> default_recipe recipe for q not specified setting to only available << default >>\n",
      "2017-05-19 19:09:17,428 DEBUG:RockPy.q.set_default_recipe >> setting default_recipe recipe << default >> for q\n",
      "2017-05-19 19:09:17,429 DEBUG:RockPy.paleointensity.__init_results >> replacing class q with instance <Mag.Measurement.paleointensity.Paleointensity.q object at 0x11ae23b70>\n",
      "2017-05-19 19:09:17,431 DEBUG:RockPy.sigma.__init__ >> initializing instance sigma\n",
      "2017-05-19 19:09:17,432 DEBUG:RockPy.sigma.set_default_recipe >> default_recipe recipe for sigma not specified setting to only available << default >>\n",
      "2017-05-19 19:09:17,433 DEBUG:RockPy.sigma.set_default_recipe >> setting default_recipe recipe << default >> for sigma\n",
      "2017-05-19 19:09:17,434 DEBUG:RockPy.paleointensity.__init_results >> replacing class sigma with instance <Mag.Measurement.paleointensity.Paleointensity.sigma object at 0x11ae0cdd8>\n",
      "2017-05-19 19:09:17,435 DEBUG:RockPy.sigma_banc.__init__ >> initializing instance sigma_banc\n",
      "2017-05-19 19:09:17,437 DEBUG:RockPy.sigma_banc.set_default_recipe >> default_recipe recipe for sigma_banc not specified setting to only available << default >>\n",
      "2017-05-19 19:09:17,438 DEBUG:RockPy.sigma_banc.set_default_recipe >> setting default_recipe recipe << default >> for sigma_banc\n",
      "2017-05-19 19:09:17,439 DEBUG:RockPy.paleointensity.__init_results >> replacing class sigma_banc with instance <Mag.Measurement.paleointensity.Paleointensity.sigma_banc object at 0x11ae0ceb8>\n",
      "2017-05-19 19:09:17,440 DEBUG:RockPy.slope.__init__ >> initializing instance slope\n",
      "2017-05-19 19:09:17,441 DEBUG:RockPy.slope.set_default_recipe >> default_recipe recipe for slope not specified setting to only available << default >>\n",
      "2017-05-19 19:09:17,442 DEBUG:RockPy.slope.set_default_recipe >> setting default_recipe recipe << default >> for slope\n",
      "2017-05-19 19:09:17,443 DEBUG:RockPy.paleointensity.__init_results >> replacing class slope with instance <Mag.Measurement.paleointensity.Paleointensity.slope object at 0x11ae0cf60>\n",
      "2017-05-19 19:09:17,444 DEBUG:RockPy.w.__init__ >> initializing instance w\n",
      "2017-05-19 19:09:17,446 DEBUG:RockPy.w.set_default_recipe >> default_recipe recipe for w not specified setting to only available << default >>\n",
      "2017-05-19 19:09:17,447 DEBUG:RockPy.w.set_default_recipe >> setting default_recipe recipe << default >> for w\n",
      "2017-05-19 19:09:17,449 DEBUG:RockPy.paleointensity.__init_results >> replacing class w with instance <Mag.Measurement.paleointensity.Paleointensity.w object at 0x11ae0ce48>\n",
      "2017-05-19 19:09:17,450 DEBUG:RockPy.xint.__init__ >> initializing instance xint\n",
      "2017-05-19 19:09:17,452 DEBUG:RockPy.xint.set_default_recipe >> default_recipe recipe for xint not specified setting to only available << default >>\n",
      "2017-05-19 19:09:17,453 DEBUG:RockPy.xint.set_default_recipe >> setting default_recipe recipe << default >> for xint\n",
      "2017-05-19 19:09:17,454 DEBUG:RockPy.paleointensity.__init_results >> replacing class xint with instance <Mag.Measurement.paleointensity.Paleointensity.xint object at 0x11ae0c7b8>\n",
      "2017-05-19 19:09:17,455 DEBUG:RockPy.yint.__init__ >> initializing instance yint\n",
      "2017-05-19 19:09:17,456 DEBUG:RockPy.yint.set_default_recipe >> default_recipe recipe for yint not specified setting to only available << default >>\n",
      "2017-05-19 19:09:17,457 DEBUG:RockPy.yint.set_default_recipe >> setting default_recipe recipe << default >> for yint\n",
      "2017-05-19 19:09:17,457 DEBUG:RockPy.paleointensity.__init_results >> replacing class yint with instance <Mag.Measurement.paleointensity.Paleointensity.yint object at 0x11ae23c50>\n",
      "2017-05-19 19:09:17,458 INFO:RockPy.Sample.add_measurement >> ADDING\t << simulation, paleointensity >>\n"
     ]
    }
   ],
   "source": [
    "s = RockPy.Sample('61')\n",
    "m = s.add_simulation(mtype='pint', preset='Fabian7a', pressure_demag= True, d2=0.2, d3=0.4, dt=0.2)"
   ]
  },
  {
   "cell_type": "code",
   "execution_count": 4,
   "metadata": {
    "ExecuteTime": {
     "end_time": "2017-05-20T00:02:37.568666Z",
     "start_time": "2017-05-19T19:02:37.545196-05:00"
    },
    "collapsed": true
   },
   "outputs": [],
   "source": [
    "RockPy.log.setLevel('ERROR')"
   ]
  },
  {
   "cell_type": "code",
   "execution_count": 5,
   "metadata": {
    "ExecuteTime": {
     "end_time": "2017-05-20T00:04:22.888508Z",
     "start_time": "2017-05-19T19:04:22.430907-05:00"
    },
    "collapsed": false
   },
   "outputs": [
    {
     "name": "stdout",
     "output_type": "stream",
     "text": [
      "The slowest run took 24.28 times longer than the fastest. This could mean that an intermediate result is being cached.\n",
      "1 loop, best of 3: 16.5 ms per loop\n"
     ]
    }
   ],
   "source": [
    "%timeit m.calc_all()"
   ]
  },
  {
   "cell_type": "code",
   "execution_count": 6,
   "metadata": {
    "ExecuteTime": {
     "end_time": "2017-05-20T00:06:43.866956Z",
     "start_time": "2017-05-19T19:06:43.662628-05:00"
    },
    "collapsed": false
   },
   "outputs": [
    {
     "ename": "KeyError",
     "evalue": "'test'",
     "output_type": "error",
     "traceback": [
      "\u001b[0;31m---------------------------------------------------------------------------\u001b[0m",
      "\u001b[0;31mKeyError\u001b[0m                                  Traceback (most recent call last)",
      "\u001b[0;32m<ipython-input-6-124f9ef5c626>\u001b[0m in \u001b[0;36m<module>\u001b[0;34m()\u001b[0m\n\u001b[0;32m----> 1\u001b[0;31m \u001b[0mm\u001b[0m\u001b[0;34m.\u001b[0m\u001b[0mbanc\u001b[0m\u001b[0;34m(\u001b[0m\u001b[0mrecipe\u001b[0m\u001b[0;34m=\u001b[0m\u001b[0;34m'test'\u001b[0m\u001b[0;34m)\u001b[0m\u001b[0;34m\u001b[0m\u001b[0m\n\u001b[0m",
      "\u001b[0;32m/Users/mike/github/RockPy/RockPy/core/result.py\u001b[0m in \u001b[0;36m__call__\u001b[0;34m(self, recipe, **parameters)\u001b[0m\n\u001b[1;32m    109\u001b[0m \u001b[0;34m\u001b[0m\u001b[0m\n\u001b[1;32m    110\u001b[0m                 \u001b[0;31m# set default_recipe parameters\u001b[0m\u001b[0;34m\u001b[0m\u001b[0;34m\u001b[0m\u001b[0m\n\u001b[0;32m--> 111\u001b[0;31m                 \u001b[0msignature\u001b[0m \u001b[0;34m=\u001b[0m \u001b[0minspect\u001b[0m\u001b[0;34m.\u001b[0m\u001b[0msignature\u001b[0m\u001b[0;34m(\u001b[0m\u001b[0mresult\u001b[0m\u001b[0;34m.\u001b[0m\u001b[0m_recipes\u001b[0m\u001b[0;34m(\u001b[0m\u001b[0;34m)\u001b[0m\u001b[0;34m[\u001b[0m\u001b[0mrecipe\u001b[0m\u001b[0;34m]\u001b[0m\u001b[0;34m)\u001b[0m\u001b[0;34m.\u001b[0m\u001b[0mparameters\u001b[0m\u001b[0;34m\u001b[0m\u001b[0m\n\u001b[0m\u001b[1;32m    112\u001b[0m                 \u001b[0;32mfor\u001b[0m \u001b[0mp\u001b[0m \u001b[0;32min\u001b[0m \u001b[0msignature\u001b[0m\u001b[0;34m:\u001b[0m\u001b[0;34m\u001b[0m\u001b[0m\n\u001b[1;32m    113\u001b[0m                     \u001b[0;32mif\u001b[0m \u001b[0mp\u001b[0m \u001b[0;34m==\u001b[0m \u001b[0;34m'check'\u001b[0m\u001b[0;34m:\u001b[0m\u001b[0;34m\u001b[0m\u001b[0m\n",
      "\u001b[0;31mKeyError\u001b[0m: 'test'"
     ]
    }
   ],
   "source": [
    "m.banc(recipe='test')"
   ]
  },
  {
   "cell_type": "code",
   "execution_count": 11,
   "metadata": {
    "ExecuteTime": {
     "end_time": "2017-05-20T00:06:32.773029Z",
     "start_time": "2017-05-19T19:06:32.721178-05:00"
    },
    "collapsed": false
   },
   "outputs": [
    {
     "data": {
      "text/plain": [
       "{'default'}"
      ]
     },
     "execution_count": 11,
     "metadata": {},
     "output_type": "execute_result"
    }
   ],
   "source": [
    "m.get_recipes('banc')"
   ]
  },
  {
   "cell_type": "code",
   "execution_count": 8,
   "metadata": {
    "ExecuteTime": {
     "end_time": "2017-05-20T00:02:38.549346Z",
     "start_time": "2017-05-19T19:02:38.460638-05:00"
    },
    "collapsed": false
   },
   "outputs": [
    {
     "data": {
      "text/plain": [
       "['_Result__deps',\n",
       " '_Result__subj',\n",
       " '__calculates__',\n",
       " '__call__',\n",
       " '__class__',\n",
       " '__delattr__',\n",
       " '__dict__',\n",
       " '__dir__',\n",
       " '__doc__',\n",
       " '__eq__',\n",
       " '__format__',\n",
       " '__ge__',\n",
       " '__getattribute__',\n",
       " '__gt__',\n",
       " '__hash__',\n",
       " '__init__',\n",
       " '__init_subclass__',\n",
       " '__le__',\n",
       " '__lt__',\n",
       " '__module__',\n",
       " '__ne__',\n",
       " '__new__',\n",
       " '__reduce__',\n",
       " '__reduce_ex__',\n",
       " '__repr__',\n",
       " '__setattr__',\n",
       " '__sizeof__',\n",
       " '__str__',\n",
       " '__subclasshook__',\n",
       " '__weakref__',\n",
       " '_dependencies',\n",
       " '_is_calculated',\n",
       " '_needs_to_be_calculated',\n",
       " '_parameters_changed',\n",
       " '_recipe_changed',\n",
       " '_recipes',\n",
       " '_subjects',\n",
       " 'default_recipe',\n",
       " 'dependencies',\n",
       " 'get_result',\n",
       " 'get_stack',\n",
       " 'log',\n",
       " 'mobj',\n",
       " 'name',\n",
       " 'params',\n",
       " 'recipe',\n",
       " 'recipe_default',\n",
       " 'set_default_recipe',\n",
       " 'set_result']"
      ]
     },
     "execution_count": 8,
     "metadata": {},
     "output_type": "execute_result"
    }
   ],
   "source": [
    "dir(m.banc)"
   ]
  },
  {
   "cell_type": "code",
   "execution_count": null,
   "metadata": {},
   "outputs": [],
   "source": []
  }
 ],
 "metadata": {
  "kernelspec": {
   "display_name": "Python 3",
   "language": "python",
   "name": "python3"
  },
  "language_info": {
   "codemirror_mode": {
    "name": "ipython",
    "version": 3
   },
   "file_extension": ".py",
   "mimetype": "text/x-python",
   "name": "python",
   "nbconvert_exporter": "python",
   "pygments_lexer": "ipython3",
   "version": "3.6.0"
  },
  "toc": {
   "colors": {
    "hover_highlight": "#DAA520",
    "running_highlight": "#FF0000",
    "selected_highlight": "#FFD700"
   },
   "moveMenuLeft": true,
   "nav_menu": {
    "height": "12px",
    "width": "252px"
   },
   "navigate_menu": true,
   "number_sections": true,
   "sideBar": true,
   "threshold": 4,
   "toc_cell": false,
   "toc_section_display": "block",
   "toc_window_display": true
  }
 },
 "nbformat": 4,
 "nbformat_minor": 2
}
